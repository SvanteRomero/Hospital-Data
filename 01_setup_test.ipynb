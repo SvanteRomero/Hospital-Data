{
 "cells": [
  {
   "cell_type": "code",
   "execution_count": null,
   "id": "3e5e5c10",
   "metadata": {},
   "outputs": [],
   "source": [
    "import pandas as pd\n",
    "from pathlib import Path\n",
    "\n",
    "files = ['C:\\\\Users\\\\Hp\\\\Desktop\\\\MyWorkspaces\\\\My Analyst Project\\\\Hospital Data\\\\data\\\\FY 2025_f4.xlsx',\n",
    "         'C:\\\\Users\\\\Hp\\\\Desktop\\\\MyWorkspaces\\\\My Analyst Project\\\\Hospital Data\\\\data\\\\FY 2024_f4.xlsx', \n",
    "         'C:\\\\Users\\\\Hp\\\\Desktop\\\\MyWorkspaces\\\\My Analyst Project\\\\Hospital Data\\\\data\\\\FY 2023_f4.xlsx']\n",
    "yearmap = {'FY 2025_f4.xlsx': '2025', 'FY 2024_f4.xlsx': '2024', 'FY 2023_f4.xlsx': '2023'}\n",
    "dfs = []\n",
    "for f in files:\n",
    "    df = pd.read_excel(f, sheet_name=0, engine='openpyxl')\n",
    "    year = yearmap[Path(f).name]\n",
    "    df['Year'] = year\n",
    "    dfs.append(df)\n"
   ]
  },
  {
   "cell_type": "code",
   "execution_count": null,
   "id": "b0df1139",
   "metadata": {},
   "outputs": [],
   "source": [
    "combined = pd.concat(dfs, ignore_index=True)\n",
    "combined['Year'] = combined['Year'].astype(int)\n",
    "combined = combined.loc[:, ~combined.columns.str.contains('^Unnamed')]"
   ]
  },
  {
   "cell_type": "code",
   "execution_count": null,
   "id": "641cb612",
   "metadata": {},
   "outputs": [],
   "source": [
    "combined.head()\n"
   ]
  }
 ],
 "metadata": {
  "kernelspec": {
   "display_name": "readmission",
   "language": "python",
   "name": "python3"
  },
  "language_info": {
   "codemirror_mode": {
    "name": "ipython",
    "version": 3
   },
   "file_extension": ".py",
   "mimetype": "text/x-python",
   "name": "python",
   "nbconvert_exporter": "python",
   "pygments_lexer": "ipython3",
   "version": "3.12.8"
  }
 },
 "nbformat": 4,
 "nbformat_minor": 5
}
