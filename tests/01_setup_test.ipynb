{
 "cells": [
  {
   "cell_type": "markdown",
   "id": "6fea30c3",
   "metadata": {},
   "source": [
    "# FY 2025 Hospital Readmission Predictor  \n",
    "(30-day readmissions, HRRP measures)\n",
    "\n",
    "*Dataset*: `FY_2025_csv.csv`  \n",
    "*Target*: `Number of Readmissions`"
   ]
  },
  {
   "cell_type": "code",
   "execution_count": 39,
   "id": "23f4245a",
   "metadata": {},
   "outputs": [],
   "source": [
    "# Core\n",
    "import pandas as pd\n",
    "import numpy as np\n",
    "\n",
    "# Modeling\n",
    "from sklearn.ensemble import RandomForestRegressor\n",
    "from sklearn.model_selection import cross_val_score, KFold\n",
    "from sklearn.metrics import mean_absolute_error, r2_score\n",
    "from sklearn.preprocessing import OneHotEncoder\n",
    "from sklearn.compose import ColumnTransformer\n",
    "from sklearn.pipeline import Pipeline\n",
    "from sklearn.impute import SimpleImputer\n",
    "\n",
    "# Plotting\n",
    "import matplotlib.pyplot as plt\n",
    "import seaborn as sns\n",
    "sns.set_theme(style='whitegrid')\n",
    "\n",
    "# Widen display\n",
    "pd.set_option('display.max_columns', None)"
   ]
  },
  {
   "cell_type": "code",
   "execution_count": 40,
   "id": "dd540c48",
   "metadata": {},
   "outputs": [
    {
     "name": "stdout",
     "output_type": "stream",
     "text": [
      "(18510, 12)\n"
     ]
    },
    {
     "data": {
      "application/vnd.microsoft.datawrangler.viewer.v0+json": {
       "columns": [
        {
         "name": "index",
         "rawType": "int64",
         "type": "integer"
        },
        {
         "name": "Facility Name",
         "rawType": "object",
         "type": "string"
        },
        {
         "name": "Facility ID",
         "rawType": "int64",
         "type": "integer"
        },
        {
         "name": "State",
         "rawType": "object",
         "type": "string"
        },
        {
         "name": "Measure Name",
         "rawType": "object",
         "type": "string"
        },
        {
         "name": "Number of Discharges",
         "rawType": "float64",
         "type": "float"
        },
        {
         "name": "Footnote",
         "rawType": "float64",
         "type": "float"
        },
        {
         "name": "Excess Readmission Ratio",
         "rawType": "float64",
         "type": "float"
        },
        {
         "name": "Predicted Readmission Rate",
         "rawType": "float64",
         "type": "float"
        },
        {
         "name": "Expected Readmission Rate",
         "rawType": "float64",
         "type": "float"
        },
        {
         "name": "Number of Readmissions",
         "rawType": "object",
         "type": "string"
        },
        {
         "name": "Start Date",
         "rawType": "object",
         "type": "string"
        },
        {
         "name": "End Date",
         "rawType": "object",
         "type": "string"
        }
       ],
       "ref": "5a17f627-1d1c-4f96-9fa6-dc4e082b1247",
       "rows": [
        [
         "0",
         "SOUTHEAST HEALTH MEDICAL CENTER",
         "10001",
         "AL",
         "READM-30-AMI-HRRP",
         "296.0",
         null,
         "0.9483",
         "13.0146",
         "13.7235",
         "36",
         "07/01/2020",
         "06/30/2023"
        ],
        [
         "1",
         "SOUTHEAST HEALTH MEDICAL CENTER",
         "10001",
         "AL",
         "READM-30-CABG-HRRP",
         "151.0",
         null,
         "0.9509",
         "9.6899",
         "10.1898",
         "13",
         "07/01/2020",
         "06/30/2023"
        ],
        [
         "2",
         "SOUTHEAST HEALTH MEDICAL CENTER",
         "10001",
         "AL",
         "READM-30-HF-HRRP",
         "681.0",
         null,
         "1.0597",
         "21.5645",
         "20.3495",
         "151",
         "07/01/2020",
         "06/30/2023"
        ],
        [
         "3",
         "SOUTHEAST HEALTH MEDICAL CENTER",
         "10001",
         "AL",
         "READM-30-HIP-KNEE-HRRP",
         null,
         null,
         "0.9654",
         "4.268",
         "4.4211",
         "Too Few to Report",
         "07/01/2020",
         "06/30/2023"
        ],
        [
         "4",
         "SOUTHEAST HEALTH MEDICAL CENTER",
         "10001",
         "AL",
         "READM-30-PN-HRRP",
         "490.0",
         null,
         "0.9715",
         "16.1137",
         "16.5863",
         "77",
         "07/01/2020",
         "06/30/2023"
        ]
       ],
       "shape": {
        "columns": 12,
        "rows": 5
       }
      },
      "text/html": [
       "<div>\n",
       "<style scoped>\n",
       "    .dataframe tbody tr th:only-of-type {\n",
       "        vertical-align: middle;\n",
       "    }\n",
       "\n",
       "    .dataframe tbody tr th {\n",
       "        vertical-align: top;\n",
       "    }\n",
       "\n",
       "    .dataframe thead th {\n",
       "        text-align: right;\n",
       "    }\n",
       "</style>\n",
       "<table border=\"1\" class=\"dataframe\">\n",
       "  <thead>\n",
       "    <tr style=\"text-align: right;\">\n",
       "      <th></th>\n",
       "      <th>Facility Name</th>\n",
       "      <th>Facility ID</th>\n",
       "      <th>State</th>\n",
       "      <th>Measure Name</th>\n",
       "      <th>Number of Discharges</th>\n",
       "      <th>Footnote</th>\n",
       "      <th>Excess Readmission Ratio</th>\n",
       "      <th>Predicted Readmission Rate</th>\n",
       "      <th>Expected Readmission Rate</th>\n",
       "      <th>Number of Readmissions</th>\n",
       "      <th>Start Date</th>\n",
       "      <th>End Date</th>\n",
       "    </tr>\n",
       "  </thead>\n",
       "  <tbody>\n",
       "    <tr>\n",
       "      <th>0</th>\n",
       "      <td>SOUTHEAST HEALTH MEDICAL CENTER</td>\n",
       "      <td>10001</td>\n",
       "      <td>AL</td>\n",
       "      <td>READM-30-AMI-HRRP</td>\n",
       "      <td>296.0</td>\n",
       "      <td>NaN</td>\n",
       "      <td>0.9483</td>\n",
       "      <td>13.0146</td>\n",
       "      <td>13.7235</td>\n",
       "      <td>36</td>\n",
       "      <td>07/01/2020</td>\n",
       "      <td>06/30/2023</td>\n",
       "    </tr>\n",
       "    <tr>\n",
       "      <th>1</th>\n",
       "      <td>SOUTHEAST HEALTH MEDICAL CENTER</td>\n",
       "      <td>10001</td>\n",
       "      <td>AL</td>\n",
       "      <td>READM-30-CABG-HRRP</td>\n",
       "      <td>151.0</td>\n",
       "      <td>NaN</td>\n",
       "      <td>0.9509</td>\n",
       "      <td>9.6899</td>\n",
       "      <td>10.1898</td>\n",
       "      <td>13</td>\n",
       "      <td>07/01/2020</td>\n",
       "      <td>06/30/2023</td>\n",
       "    </tr>\n",
       "    <tr>\n",
       "      <th>2</th>\n",
       "      <td>SOUTHEAST HEALTH MEDICAL CENTER</td>\n",
       "      <td>10001</td>\n",
       "      <td>AL</td>\n",
       "      <td>READM-30-HF-HRRP</td>\n",
       "      <td>681.0</td>\n",
       "      <td>NaN</td>\n",
       "      <td>1.0597</td>\n",
       "      <td>21.5645</td>\n",
       "      <td>20.3495</td>\n",
       "      <td>151</td>\n",
       "      <td>07/01/2020</td>\n",
       "      <td>06/30/2023</td>\n",
       "    </tr>\n",
       "    <tr>\n",
       "      <th>3</th>\n",
       "      <td>SOUTHEAST HEALTH MEDICAL CENTER</td>\n",
       "      <td>10001</td>\n",
       "      <td>AL</td>\n",
       "      <td>READM-30-HIP-KNEE-HRRP</td>\n",
       "      <td>NaN</td>\n",
       "      <td>NaN</td>\n",
       "      <td>0.9654</td>\n",
       "      <td>4.2680</td>\n",
       "      <td>4.4211</td>\n",
       "      <td>Too Few to Report</td>\n",
       "      <td>07/01/2020</td>\n",
       "      <td>06/30/2023</td>\n",
       "    </tr>\n",
       "    <tr>\n",
       "      <th>4</th>\n",
       "      <td>SOUTHEAST HEALTH MEDICAL CENTER</td>\n",
       "      <td>10001</td>\n",
       "      <td>AL</td>\n",
       "      <td>READM-30-PN-HRRP</td>\n",
       "      <td>490.0</td>\n",
       "      <td>NaN</td>\n",
       "      <td>0.9715</td>\n",
       "      <td>16.1137</td>\n",
       "      <td>16.5863</td>\n",
       "      <td>77</td>\n",
       "      <td>07/01/2020</td>\n",
       "      <td>06/30/2023</td>\n",
       "    </tr>\n",
       "  </tbody>\n",
       "</table>\n",
       "</div>"
      ],
      "text/plain": [
       "                     Facility Name  Facility ID State            Measure Name  \\\n",
       "0  SOUTHEAST HEALTH MEDICAL CENTER        10001    AL       READM-30-AMI-HRRP   \n",
       "1  SOUTHEAST HEALTH MEDICAL CENTER        10001    AL      READM-30-CABG-HRRP   \n",
       "2  SOUTHEAST HEALTH MEDICAL CENTER        10001    AL        READM-30-HF-HRRP   \n",
       "3  SOUTHEAST HEALTH MEDICAL CENTER        10001    AL  READM-30-HIP-KNEE-HRRP   \n",
       "4  SOUTHEAST HEALTH MEDICAL CENTER        10001    AL        READM-30-PN-HRRP   \n",
       "\n",
       "   Number of Discharges  Footnote  Excess Readmission Ratio  \\\n",
       "0                 296.0       NaN                    0.9483   \n",
       "1                 151.0       NaN                    0.9509   \n",
       "2                 681.0       NaN                    1.0597   \n",
       "3                   NaN       NaN                    0.9654   \n",
       "4                 490.0       NaN                    0.9715   \n",
       "\n",
       "   Predicted Readmission Rate  Expected Readmission Rate  \\\n",
       "0                     13.0146                    13.7235   \n",
       "1                      9.6899                    10.1898   \n",
       "2                     21.5645                    20.3495   \n",
       "3                      4.2680                     4.4211   \n",
       "4                     16.1137                    16.5863   \n",
       "\n",
       "  Number of Readmissions  Start Date    End Date  \n",
       "0                     36  07/01/2020  06/30/2023  \n",
       "1                     13  07/01/2020  06/30/2023  \n",
       "2                    151  07/01/2020  06/30/2023  \n",
       "3      Too Few to Report  07/01/2020  06/30/2023  \n",
       "4                     77  07/01/2020  06/30/2023  "
      ]
     },
     "execution_count": 40,
     "metadata": {},
     "output_type": "execute_result"
    }
   ],
   "source": [
    "df_raw = pd.read_csv('C:\\\\Users\\\\Hp\\\\Desktop\\\\MyWorkspaces\\\\My Analyst Project\\\\Hospital Data\\\\data\\\\csv\\\\FY_2025_csv.csv')\n",
    "print(df_raw.shape)\n",
    "df_raw.head()"
   ]
  },
  {
   "cell_type": "markdown",
   "id": "212356ca",
   "metadata": {},
   "source": [
    "### Quick sanity checks\n",
    "- How many numeric vs. categorical columns?  \n",
    "- Which columns have missing values?"
   ]
  },
  {
   "cell_type": "code",
   "execution_count": 41,
   "id": "fd4fc8ab",
   "metadata": {},
   "outputs": [
    {
     "name": "stdout",
     "output_type": "stream",
     "text": [
      "<class 'pandas.core.frame.DataFrame'>\n",
      "RangeIndex: 18510 entries, 0 to 18509\n",
      "Data columns (total 12 columns):\n",
      " #   Column                      Non-Null Count  Dtype  \n",
      "---  ------                      --------------  -----  \n",
      " 0   Facility Name               18510 non-null  object \n",
      " 1   Facility ID                 18510 non-null  int64  \n",
      " 2   State                       18510 non-null  object \n",
      " 3   Measure Name                18510 non-null  object \n",
      " 4   Number of Discharges        8340 non-null   float64\n",
      " 5   Footnote                    6583 non-null   float64\n",
      " 6   Excess Readmission Ratio    11927 non-null  float64\n",
      " 7   Predicted Readmission Rate  11927 non-null  float64\n",
      " 8   Expected Readmission Rate   11927 non-null  float64\n",
      " 9   Number of Readmissions      11927 non-null  object \n",
      " 10  Start Date                  18510 non-null  object \n",
      " 11  End Date                    18510 non-null  object \n",
      "dtypes: float64(5), int64(1), object(6)\n",
      "memory usage: 1.7+ MB\n"
     ]
    },
    {
     "data": {
      "application/vnd.microsoft.datawrangler.viewer.v0+json": {
       "columns": [
        {
         "name": "index",
         "rawType": "object",
         "type": "string"
        },
        {
         "name": "0",
         "rawType": "int64",
         "type": "integer"
        }
       ],
       "ref": "5b13827f-94c5-4252-aa03-3d2941e48aaf",
       "rows": [
        [
         "Footnote",
         "11927"
        ],
        [
         "Number of Discharges",
         "10170"
        ],
        [
         "Excess Readmission Ratio",
         "6583"
        ],
        [
         "Predicted Readmission Rate",
         "6583"
        ],
        [
         "Expected Readmission Rate",
         "6583"
        ],
        [
         "Number of Readmissions",
         "6583"
        ],
        [
         "Facility Name",
         "0"
        ],
        [
         "Facility ID",
         "0"
        ],
        [
         "State",
         "0"
        ],
        [
         "Measure Name",
         "0"
        ],
        [
         "Start Date",
         "0"
        ],
        [
         "End Date",
         "0"
        ]
       ],
       "shape": {
        "columns": 1,
        "rows": 12
       }
      },
      "text/plain": [
       "Footnote                      11927\n",
       "Number of Discharges          10170\n",
       "Excess Readmission Ratio       6583\n",
       "Predicted Readmission Rate     6583\n",
       "Expected Readmission Rate      6583\n",
       "Number of Readmissions         6583\n",
       "Facility Name                     0\n",
       "Facility ID                       0\n",
       "State                             0\n",
       "Measure Name                      0\n",
       "Start Date                        0\n",
       "End Date                          0\n",
       "dtype: int64"
      ]
     },
     "execution_count": 41,
     "metadata": {},
     "output_type": "execute_result"
    }
   ],
   "source": [
    "df_raw.info()\n",
    "df_raw.isna().sum().sort_values(ascending=False).head(15)"
   ]
  },
  {
   "cell_type": "code",
   "execution_count": 42,
   "id": "179432b9",
   "metadata": {},
   "outputs": [
    {
     "name": "stdout",
     "output_type": "stream",
     "text": [
      "NaN values in target before cleaning: 6583\n",
      "NaN values in target after cleaning: 0\n",
      "Rows after cleaning: 8121\n"
     ]
    }
   ],
   "source": [
    "def clean(df):\n",
    "    \"\"\"Minimal cleaning pipeline.\"\"\"\n",
    "    df = df.copy()\n",
    "\n",
    "    # Drop rows where target is missing\n",
    "    df = df[df['Number of Readmissions'].notna()]\n",
    "\n",
    "    # Convert 'Too Few to Report' → NaN in numeric columns\n",
    "    numeric_cols = ['Excess Readmission Ratio', 'Predicted Readmission Rate',\n",
    "                    'Expected Readmission Rate', 'Number of Discharges',\n",
    "                    'Number of Readmissions']\n",
    "    for col in numeric_cols:\n",
    "        df[col] = pd.to_numeric(df[col], errors='coerce')\n",
    "\n",
    "    # Fill remaining NaNs\n",
    "    df['Footnote'] = df['Footnote'].astype('category')\n",
    "    df['Measure Name'] = df['Measure Name'].astype('category')\n",
    "    df['Facility Name'] = df['Facility Name'].astype('category')\n",
    "    df['State'] = df['State'].astype('category')\n",
    "    \n",
    "    # Ensure no NaNs in the target column\n",
    "    df = df.dropna(subset=['Number of Readmissions'])\n",
    "    \n",
    "    return df\n",
    "\n",
    "print(\"NaN values in target before cleaning:\", df_raw['Number of Readmissions'].isna().sum())\n",
    "df = clean(df_raw)\n",
    "print(\"NaN values in target after cleaning:\", df['Number of Readmissions'].isna().sum())\n",
    "print(\"Rows after cleaning:\", df.shape[0])"
   ]
  },
  {
   "cell_type": "markdown",
   "id": "13aa53db",
   "metadata": {},
   "source": [
    "**Features used**  \n",
    "categorical: `State`, `Measure Name`  \n",
    "numerical: all the rest (ratios, rates, discharge volume)  \n",
    "\n",
    "I *do not* include `Expected Readmission Rate` in training features to avoid label leakage."
   ]
  },
  {
   "cell_type": "code",
   "execution_count": 43,
   "id": "f239340e",
   "metadata": {},
   "outputs": [],
   "source": [
    "TARGET = 'Number of Readmissions'\n",
    "\n",
    "# Columns we DO NOT want as predictors\n",
    "non_features = [TARGET,\n",
    "                'Start Date', 'End Date', 'Footnote',\n",
    "                'Facility Name', 'Facility ID']    # <- add these\n",
    "\n",
    "y = df[TARGET]\n",
    "X = df.drop(columns=non_features)\n",
    "\n",
    "# Identify column types\n",
    "cat_cols = ['State', 'Measure Name']\n",
    "num_cols = [c for c in X.columns if X[c].dtype != 'category' and c not in cat_cols]"
   ]
  },
  {
   "cell_type": "code",
   "execution_count": 44,
   "id": "a7a2398a",
   "metadata": {},
   "outputs": [],
   "source": [
    "#Preprocess the data\n",
    "preprocessor = ColumnTransformer(\n",
    "    transformers=[\n",
    "        ('num', SimpleImputer(strategy='median'), num_cols),\n",
    "        ('cat', OneHotEncoder(handle_unknown='ignore'), cat_cols)\n",
    "    ])\n",
    "\n",
    "model = RandomForestRegressor(\n",
    "    n_estimators=400,\n",
    "    max_depth=None,\n",
    "    random_state=42,\n",
    "    n_jobs=-1\n",
    ")\n",
    "\n",
    "pipe = Pipeline(steps=[('prep', preprocessor),\n",
    "                      ('clf', model)])"
   ]
  },
  {
   "cell_type": "code",
   "execution_count": null,
   "id": "d362e84b",
   "metadata": {},
   "outputs": [],
   "source": [
    "# Cross-validation\n",
    "cv = KFold(n_splits=5, shuffle=True, random_state=42)\n",
    "\n",
    "neg_mae = cross_val_score(pipe, X, y,\n",
    "                          cv=cv,\n",
    "                          scoring='neg_mean_absolute_error',\n",
    "                          n_jobs=-1)\n",
    "\n",
    "mae = -neg_mae\n",
    "print(\"Mean Absolute Error (5-fold):\", mae.mean().round(2))\n",
    "print(\"Std:\", mae.std().round(2))"
   ]
  },
  {
   "cell_type": "code",
   "execution_count": null,
   "id": "afb7c553",
   "metadata": {},
   "outputs": [
    {
     "data": {
      "image/png": "[encoded data removed]",
      "text/plain": [
       "<Figure size 800x600 with 1 Axes>"
      ]
     },
     "metadata": {},
     "output_type": "display_data"
    }
   ],
   "source": [
    "# Fit the model to the entire dataset\n",
    "pipe.fit(X, y)\n",
    "\n",
    "# Pull out feature names after one-hot encoding\n",
    "ohe = pipe.named_steps['prep'].named_transformers_['cat']\n",
    "cat_features = ohe.get_feature_names_out(cat_cols)\n",
    "all_features = num_cols + list(cat_features)\n",
    "\n",
    "importances = pipe.named_steps['clf'].feature_importances_\n",
    "feat_df = pd.Series(importances, index=all_features).sort_values(ascending=False)\n",
    "\n",
    "plt.figure(figsize=(8,6))\n",
    "feat_df.head(20).plot(kind='barh')\n",
    "plt.title(\"Top 20 Feature Importances\")\n",
    "plt.gca().invert_yaxis()\n",
    "plt.show()"
   ]
  },
  {
   "cell_type": "code",
   "execution_count": null,
   "id": "76c0ae59",
   "metadata": {},
   "outputs": [
    {
     "name": "stdout",
     "output_type": "stream",
     "text": [
      "Model saved to fy2025_readmission_rf.pkl\n"
     ]
    }
   ],
   "source": [
    "import joblib\n",
    "joblib.dump(pipe, 'fy2025_readmission_rf.pkl')\n",
    "print(\"Model saved to fy2025_readmission_rf.pkl\")"
   ]
  },
  {
   "cell_type": "markdown",
   "id": "3513d3e9",
   "metadata": {},
   "source": [
    "### Predict readmissions for a hypothetical new record"
   ]
  },
  {
   "cell_type": "code",
   "execution_count": 2,
   "id": "423c9010",
   "metadata": {},
   "outputs": [
    {
     "ename": "NameError",
     "evalue": "name 'pd' is not defined",
     "output_type": "error",
     "traceback": [
      "\u001b[31m---------------------------------------------------------------------------\u001b[39m",
      "\u001b[31mNameError\u001b[39m                                 Traceback (most recent call last)",
      "\u001b[36mCell\u001b[39m\u001b[36m \u001b[39m\u001b[32mIn[2]\u001b[39m\u001b[32m, line 13\u001b[39m\n\u001b[32m      1\u001b[39m \u001b[38;5;66;03m# Example dummy row\u001b[39;00m\n\u001b[32m      2\u001b[39m new_row = {\n\u001b[32m      3\u001b[39m     \u001b[33m'\u001b[39m\u001b[33mState\u001b[39m\u001b[33m'\u001b[39m: \u001b[33m'\u001b[39m\u001b[33mCA\u001b[39m\u001b[33m'\u001b[39m,\n\u001b[32m      4\u001b[39m     \u001b[33m'\u001b[39m\u001b[33mMeasure Name\u001b[39m\u001b[33m'\u001b[39m: \u001b[33m'\u001b[39m\u001b[33mREADM-30-HF-HRRP\u001b[39m\u001b[33m'\u001b[39m,\n\u001b[32m   (...)\u001b[39m\u001b[32m     10\u001b[39m     \u001b[33m'\u001b[39m\u001b[33mFacility ID\u001b[39m\u001b[33m'\u001b[39m: \u001b[32m999999\u001b[39m\n\u001b[32m     11\u001b[39m }\n\u001b[32m---> \u001b[39m\u001b[32m13\u001b[39m new_df = pd.DataFrame([new_row])\n\u001b[32m     14\u001b[39m pred = pipe.predict(new_df)\n\u001b[32m     15\u001b[39m \u001b[38;5;28mprint\u001b[39m(\u001b[33m\"\u001b[39m\u001b[33mPredicted # readmissions:\u001b[39m\u001b[33m\"\u001b[39m, \u001b[38;5;28mint\u001b[39m(pred[\u001b[32m0\u001b[39m]))\n",
      "\u001b[31mNameError\u001b[39m: name 'pd' is not defined"
     ]
    }
   ],
   "source": [
    "# Example dummy row\n",
    "new_row = {\n",
    "    'State': 'CA',\n",
    "    'Measure Name': 'READM-30-HF-HRRP',\n",
    "    'Excess Readmission Ratio': 1.05,\n",
    "    'Predicted Readmission Rate': 20.0,\n",
    "    'Expected Readmission Rate': 19.0,\n",
    "    'Number of Discharges': 500,\n",
    "    'Facility Name': 'Test Hospital',\n",
    "    'Facility ID': 999999\n",
    "}\n",
    "\n",
    "new_df = pd.DataFrame([new_row])\n",
    "pred = pipe.predict(new_df)\n",
    "print(\"Predicted # readmissions:\", int(pred[0]))"
   ]
  },
  {
   "cell_type": "markdown",
   "id": "e7a514c8",
   "metadata": {},
   "source": [
    "#### Ideas for improvement\n",
    "- Hyper-parameter tuning via `RandomizedSearchCV`  \n",
    "- Try Gradient-Boosting (XGBoost, LightGBM)  \n",
    "- Add interaction terms (e.g., `Excess Ratio × Discharges`)  \n",
    "- Separate models per `Measure Name` for higher accuracy"
   ]
  }
 ],
 "metadata": {
  "kernelspec": {
   "display_name": "readmission",
   "language": "python",
   "name": "python3"
  },
  "language_info": {
   "codemirror_mode": {
    "name": "ipython",
    "version": 3
   },
   "file_extension": ".py",
   "mimetype": "text/x-python",
   "name": "python",
   "nbconvert_exporter": "python",
   "pygments_lexer": "ipython3",
   "version": "3.12.8"
  }
 },
 "nbformat": 4,
 "nbformat_minor": 5
}
